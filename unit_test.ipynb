{
 "cells": [
  {
   "cell_type": "code",
   "execution_count": 1,
   "id": "7c8da89b",
   "metadata": {},
   "outputs": [],
   "source": [
    "import json"
   ]
  },
  {
   "cell_type": "code",
   "execution_count": 2,
   "id": "f7b8fa84",
   "metadata": {},
   "outputs": [],
   "source": [
    "path = \"/home/data/yjgroup/lyl/data/pr/data/okvqa6_1/exp_data/question_raw_train_with_graphs2.json\"\n",
    "with open(path, 'r') as f:\n",
    "    qa_raw = json.load(f)"
   ]
  },
  {
   "cell_type": "code",
   "execution_count": 3,
   "id": "7597dd1a",
   "metadata": {},
   "outputs": [
    {
     "data": {
      "text/plain": [
       "dict"
      ]
     },
     "execution_count": 3,
     "metadata": {},
     "output_type": "execute_result"
    }
   ],
   "source": [
    "type(qa_raw)"
   ]
  },
  {
   "cell_type": "code",
   "execution_count": 6,
   "id": "9ec2c139",
   "metadata": {},
   "outputs": [],
   "source": [
    "one_qa = qa_raw['516065']"
   ]
  },
  {
   "cell_type": "code",
   "execution_count": 8,
   "id": "542e79db",
   "metadata": {},
   "outputs": [],
   "source": [
    "with open(\"temp/one_qa_raw_with_graph.json\", 'w') as f:\n",
    "    json.dump(one_qa, f)"
   ]
  },
  {
   "cell_type": "code",
   "execution_count": null,
   "id": "be81c170",
   "metadata": {},
   "outputs": [],
   "source": []
  }
 ],
 "metadata": {
  "kernelspec": {
   "display_name": "Python 3 (ipykernel)",
   "language": "python",
   "name": "python3"
  },
  "language_info": {
   "codemirror_mode": {
    "name": "ipython",
    "version": 3
   },
   "file_extension": ".py",
   "mimetype": "text/x-python",
   "name": "python",
   "nbconvert_exporter": "python",
   "pygments_lexer": "ipython3",
   "version": "3.7.10"
  }
 },
 "nbformat": 4,
 "nbformat_minor": 5
}
